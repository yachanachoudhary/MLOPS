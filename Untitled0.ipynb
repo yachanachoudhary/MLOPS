{
  "nbformat": 4,
  "nbformat_minor": 0,
  "metadata": {
    "colab": {
      "provenance": []
    },
    "kernelspec": {
      "name": "python3",
      "display_name": "Python 3"
    },
    "language_info": {
      "name": "python"
    }
  },
  "cells": [
    {
      "cell_type": "code",
      "execution_count": null,
      "metadata": {
        "id": "oVQbLjYbJ474"
      },
      "outputs": [],
      "source": [
        "\n"
      ]
    },
    {
      "cell_type": "code",
      "source": [
        "#Input number of days\n",
        "number_days = 760\n",
        "\n",
        "# Calculate years\n",
        "years = number_days // 365\n",
        "remaining_days = number_days % 365\n",
        "\n",
        "# Calculate months (approximate, assuming 30 days per month)\n",
        "months = remaining_days // 30\n",
        "remaining_days = remaining_days % 30\n",
        "\n",
        "# Calculate weeks\n",
        "weeks = remaining_days // 7\n",
        "\n",
        "# Remaining days\n",
        "days = remaining_days % 7\n",
        "\n",
        "# Output the result\n",
        "print(f\"{years} Year(s)\")\n",
        "print(f\"{months} Month(s)\")\n",
        "print(f\"{weeks} Week(s)\")\n",
        "print(f\"{days} Day(s)\")"
      ],
      "metadata": {
        "id": "-OnPblWOKBju",
        "colab": {
          "base_uri": "https://localhost:8080/"
        },
        "outputId": "0d81b42f-a38d-47a3-8b40-d7a05f8c73a5"
      },
      "execution_count": 1,
      "outputs": [
        {
          "output_type": "stream",
          "name": "stdout",
          "text": [
            "2 Year(s)\n",
            "1 Month(s)\n",
            "0 Week(s)\n",
            "0 Day(s)\n"
          ]
        }
      ]
    },
    {
      "cell_type": "code",
      "source": [
        "print(\"Enter a number:\")\n",
        "n = int(input())\n",
        "\n",
        "if n < 0:\n",
        "    n = n * -1\n",
        "\n",
        "rev = 0\n",
        "while n > 0:\n",
        "    d = n % 10\n",
        "    rev = rev * 10 + d\n",
        "    n = n // 10\n",
        "\n",
        "print(\"Reversed number:\", rev)\n"
      ],
      "metadata": {
        "colab": {
          "base_uri": "https://localhost:8080/"
        },
        "id": "MQyXk4PXHoss",
        "outputId": "005de13a-034b-4ef1-b365-c18cf5e79377"
      },
      "execution_count": 2,
      "outputs": [
        {
          "output_type": "stream",
          "name": "stdout",
          "text": [
            "Enter a number:\n",
            "123\n",
            "Reversed number: 321\n"
          ]
        }
      ]
    },
    {
      "cell_type": "code",
      "source": [
        "a=5\n",
        "b=2\n",
        "a=a+b\n",
        "b=a-b\n",
        "a=a-b\n",
        "print(a)\n",
        "print(b)\n"
      ],
      "metadata": {
        "colab": {
          "base_uri": "https://localhost:8080/"
        },
        "id": "f46aGo2THsja",
        "outputId": "5b33da51-2938-466d-fe73-1cc084480ee7"
      },
      "execution_count": 3,
      "outputs": [
        {
          "output_type": "stream",
          "name": "stdout",
          "text": [
            "2\n",
            "5\n"
          ]
        }
      ]
    },
    {
      "cell_type": "code",
      "source": [
        "\n",
        "num=input(\" enter number\")\n",
        "total=0\n",
        "for digit in num:\n",
        "    total+=int(digit)\n",
        "print(total)\n"
      ],
      "metadata": {
        "colab": {
          "base_uri": "https://localhost:8080/"
        },
        "id": "bdO9YSGJHvXh",
        "outputId": "b65c0f63-025c-45f0-9f43-ca974d43545c"
      },
      "execution_count": 6,
      "outputs": [
        {
          "output_type": "stream",
          "name": "stdout",
          "text": [
            " enter number456\n",
            "15\n"
          ]
        }
      ]
    },
    {
      "cell_type": "code",
      "source": [],
      "metadata": {
        "id": "2S6j2c2VH0nD"
      },
      "execution_count": null,
      "outputs": []
    }
  ]
}