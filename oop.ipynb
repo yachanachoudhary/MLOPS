{
  "nbformat": 4,
  "nbformat_minor": 0,
  "metadata": {
    "colab": {
      "provenance": [],
      "authorship_tag": "ABX9TyMbVTBFswiyY1GzVtYm9cAP",
      "include_colab_link": true
    },
    "kernelspec": {
      "name": "python3",
      "display_name": "Python 3"
    },
    "language_info": {
      "name": "python"
    }
  },
  "cells": [
    {
      "cell_type": "markdown",
      "metadata": {
        "id": "view-in-github",
        "colab_type": "text"
      },
      "source": [
        "<a href=\"https://colab.research.google.com/github/yachanachoudhary/MLOPS/blob/main/oop.ipynb\" target=\"_parent\"><img src=\"https://colab.research.google.com/assets/colab-badge.svg\" alt=\"Open In Colab\"/></a>"
      ]
    },
    {
      "cell_type": "code",
      "execution_count": 2,
      "metadata": {
        "colab": {
          "base_uri": "https://localhost:8080/"
        },
        "id": "c4vtZdq1MKch",
        "outputId": "ded28103-58ef-4c49-ec2b-1b20ac6653c0"
      },
      "outputs": [
        {
          "output_type": "stream",
          "name": "stdout",
          "text": [
            " Classification Report:\n",
            "\n",
            "              precision    recall  f1-score   support\n",
            "\n",
            "           0       1.00      1.00      1.00        19\n",
            "           1       1.00      1.00      1.00        13\n",
            "           2       1.00      1.00      1.00        13\n",
            "\n",
            "    accuracy                           1.00        45\n",
            "   macro avg       1.00      1.00      1.00        45\n",
            "weighted avg       1.00      1.00      1.00        45\n",
            "\n"
          ]
        }
      ],
      "source": [
        "# Step 1: Import Required Libraries\n",
        "from sklearn.datasets import load_iris\n",
        "from sklearn.model_selection import train_test_split\n",
        "from sklearn.preprocessing import StandardScaler\n",
        "from sklearn.tree import DecisionTreeClassifier\n",
        "from sklearn.metrics import classification_report\n",
        "# Step 2: Data Loader Class\n",
        "class DataLoader:\n",
        "     def __init__(self):\n",
        "       self.X, self.y = load_iris(return_X_y=True)\n",
        "     def split(self, test_size=0.3, random_state=42):\n",
        "       return train_test_split(self.X, self.y, test_size=test_size,\n",
        "random_state=random_state)\n",
        "# Step 3: Preprocessor Class\n",
        "class Preprocessor:\n",
        "     def __init__(self):\n",
        "       self.scaler = StandardScaler()\n",
        "     def fit_transform(self, X_train):\n",
        "       return self.scaler.fit_transform(X_train)\n",
        "     def transform(self, X_test):\n",
        "       return self.scaler.transform(X_test)\n",
        "# Step 4: ML Model Class\n",
        "class MLModel:\n",
        "     def __init__(self):\n",
        "       self.model = DecisionTreeClassifier()\n",
        "     def train(self, X_train, y_train):\n",
        "       self.model.fit(X_train, y_train)\n",
        "     def predict(self, X_test):\n",
        "       return self.model.predict(X_test)\n",
        "# Step 5: Evaluation Class\n",
        "class Evaluator:\n",
        "     def evaluate(self, y_true, y_pred):\n",
        "       self.y_true=y_true\n",
        "       self.y_pred=y_pred\n",
        "     def report(self):\n",
        "       print(\" Classification Report:\\n\")\n",
        "       print(classification_report(self.y_true, self.y_pred))\n",
        "# Step 6: Main ML Application Class\n",
        "class MLApplication:\n",
        "    def __init__(self):\n",
        "        self.data_loader = DataLoader()\n",
        "        self.preprocessor = Preprocessor()\n",
        "        self.model = MLModel()\n",
        "        self.evaluator = Evaluator()\n",
        "\n",
        "    def run(self):\n",
        "        # Load and split data\n",
        "        X_train, X_test, y_train, y_test = self.data_loader.split()\n",
        "\n",
        "        # Preprocess data\n",
        "        X_train_scaled = self.preprocessor.fit_transform(X_train)\n",
        "        X_test_scaled = self.preprocessor.transform(X_test)\n",
        "\n",
        "        # Train model\n",
        "        self.model.train(X_train_scaled, y_train)\n",
        "\n",
        "        # Make predictions\n",
        "        y_pred = self.model.predict(X_test_scaled)\n",
        "\n",
        "        # Evaluate model\n",
        "        self.evaluator.evaluate(y_test, y_pred)\n",
        "        self.evaluator.report()\n",
        "# Step 7: Execute the pipeline\n",
        "app=MLApplication()\n",
        "app.run()"
      ]
    },
    {
      "cell_type": "code",
      "source": [],
      "metadata": {
        "id": "LEYQ8ZwfMYNA"
      },
      "execution_count": null,
      "outputs": []
    }
  ]
}